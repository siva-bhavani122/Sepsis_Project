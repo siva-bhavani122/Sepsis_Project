{
  "nbformat": 4,
  "nbformat_minor": 0,
  "metadata": {
    "colab": {
      "provenance": [],
      "collapsed_sections": []
    },
    "kernelspec": {
      "name": "python3",
      "display_name": "Python 3"
    },
    "language_info": {
      "name": "python"
    }
  },
  "cells": [
    {
      "cell_type": "markdown",
      "source": [
        "# DTW Consensus Clustering"
      ],
      "metadata": {
        "id": "QF5tnedLC6tB"
      }
    },
    {
      "cell_type": "markdown",
      "source": [
        "## Pre-Render R environment for Python"
      ],
      "metadata": {
        "id": "cdq8U4VTDvHR"
      }
    },
    {
      "cell_type": "code",
      "execution_count": null,
      "metadata": {
        "id": "ReAz1H1OCtSn"
      },
      "outputs": [],
      "source": [
        "from google.colab import drive\n",
        "drive.mount('/content/drive')"
      ]
    },
    {
      "cell_type": "code",
      "source": [
        "# Run R Code in a python Jupyter Notebook\n",
        "!pip install rpy2==3.5.1\n",
        "%load_ext rpy2.ipython\n",
        "%cp drive/MyDrive/src/library.tar.gz . #Utilize custom R-environment libraries\n",
        "!tar xf library.tar.gz"
      ],
      "metadata": {
        "id": "75ELYWJWC-_R"
      },
      "execution_count": null,
      "outputs": []
    },
    {
      "cell_type": "code",
      "source": [
        "%%R\n",
        ".libPaths('usr/local/lib/R/site-library/')"
      ],
      "metadata": {
        "id": "_v1oFAmMDZQw"
      },
      "execution_count": null,
      "outputs": []
    },
    {
      "cell_type": "code",
      "source": [
        "%%R\n",
        "library(tidyverse)\n",
        "library(ConsensusClusterPlus)"
      ],
      "metadata": {
        "id": "RWAc3WQgDgwo"
      },
      "execution_count": null,
      "outputs": []
    },
    {
      "cell_type": "markdown",
      "source": [
        "## DTW Consensus Clustering"
      ],
      "metadata": {
        "id": "KrOp9Xk5Dpdp"
      }
    },
    {
      "cell_type": "code",
      "source": [
        "%%R\n",
        "dtw_dist <- read.csv('train_distances_normalized_no_stdcapped.csv') #load in DTW distance matrix (either train or valid)\n",
        "dtw_dist <- subset(dtw_dist, select = -c(1))"
      ],
      "metadata": {
        "id": "z5BvRyLCDt_1"
      },
      "execution_count": null,
      "outputs": []
    },
    {
      "cell_type": "code",
      "source": [
        "%%R\n",
        "# Run HC Consensus Clustering\n",
        "results = ConsensusClusterPlus(as.matrix(dtw_dist),maxK=6,reps=100,pItem=0.8,pFeature=1, title='DTW_Train_HC',clusterAlg=\"hc\", distance=\"pearson\",plot=\"png\",innerLinkage=\"complete\")\n",
        "\n",
        "# Output Results to CSV\n",
        "for(j in 2:6){\n",
        "CM = as.data.frame(results[[j]]['consensusClass'])\n",
        "# ml = as.data.frame(results[[j]][['ml']][,])\n",
        "# colnames(CM) = vader_assign_raw[,1]\n",
        "# colnames(ml) = vader_assign_raw[,1]\n",
        "# rownames(CM) = vader_assign_raw[,1]\n",
        "# rownames(ml) = vader_assign_raw[,1]\n",
        "\n",
        "write.csv(CM, paste0('train_consensus_class_cluster_',j, '_HC_dropseed_complete_normalized_nocap.csv'),row.names = TRUE)\n",
        "}"
      ],
      "metadata": {
        "id": "1yRe7p_MD_og"
      },
      "execution_count": null,
      "outputs": []
    },
    {
      "cell_type": "code",
      "source": [
        "%%R\n",
        "# Run PAM Consensus Clustering\n",
        "results = ConsensusClusterPlus(as.matrix(dtw_dist),maxK=6,reps=100,pItem=0.8,pFeature=1, title='DTW_Train_PAM',clusterAlg=\"pam\", distance=\"pearson\",plot=\"png\",innerLinkage=\"complete\")\n",
        "\n",
        "# Output Results to CSV\n",
        "for(j in 2:6){\n",
        "CM = as.data.frame(results[[j]]['consensusClass'])\n",
        "# ml = as.data.frame(results[[j]][['ml']][,])\n",
        "# colnames(CM) = vader_assign_raw[,1]\n",
        "# colnames(ml) = vader_assign_raw[,1]\n",
        "# rownames(CM) = vader_assign_raw[,1]\n",
        "# rownames(ml) = vader_assign_raw[,1]\n",
        "\n",
        "write.csv(CM, paste0('train_consensus_class_cluster_',j, '_PAM_dropseed_complete_normalized_nocap.csv'),row.names = TRUE)\n",
        "}"
      ],
      "metadata": {
        "id": "AA4yj19tEYeJ"
      },
      "execution_count": null,
      "outputs": []
    }
  ]
}
